{
  "nbformat": 4,
  "nbformat_minor": 0,
  "metadata": {
    "colab": {
      "provenance": [],
      "authorship_tag": "ABX9TyNTzMBtN4KDCu6+EwsGV9Vr",
      "include_colab_link": true
    },
    "kernelspec": {
      "name": "python3",
      "display_name": "Python 3"
    },
    "language_info": {
      "name": "python"
    }
  },
  "cells": [
    {
      "cell_type": "markdown",
      "metadata": {
        "id": "view-in-github",
        "colab_type": "text"
      },
      "source": [
        "<a href=\"https://colab.research.google.com/github/Richaweb/DS/blob/main/Python_practice_Question_Oeson.ipynb\" target=\"_parent\"><img src=\"https://colab.research.google.com/assets/colab-badge.svg\" alt=\"Open In Colab\"/></a>"
      ]
    },
    {
      "cell_type": "markdown",
      "source": [
        "#operators\n"
      ],
      "metadata": {
        "id": "_z7VTQi_J-07"
      }
    },
    {
      "cell_type": "code",
      "source": [
        "#Sum\n",
        "a = 2\n",
        "b = 3\n",
        "c =(a+b)\n",
        "print(c)\n",
        "\n",
        "#difference\n",
        "a = 2\n",
        "b = 3\n",
        "c =(a-b)\n",
        "print(c)\n",
        "\n",
        "#product\n",
        "a = 2\n",
        "b = 3\n",
        "c =(a*b)\n",
        "print(c)\n",
        "\n",
        "#divide\n",
        "a = 2\n",
        "b = 3\n",
        "c =(a/b)\n",
        "print(c)\n",
        "\n",
        "#remainder\n",
        "a = 2\n",
        "b = 3\n",
        "c =(a%b)\n",
        "print(c)\n",
        "\n",
        "#greater than 100\n",
        "num =[2,3,4,89,70]\n",
        "print(all(x > 100 for x in num))\n",
        "\n",
        "#Check if two variables hold the same value.\n",
        "a = 2\n",
        "b = 2\n",
        "if a==b:\n",
        "  print(\"they are equal\")\n",
        "else:\n",
        "  print (\"they are not equal\")\n",
        "\n",
        "#Take a number and check if it’s divisible by 3 and 5.\n",
        "def isdivisible_by_3_and_5(number):\n",
        "    if number % 3 == 0 and number % 5 == 0:\n",
        "        return True\n",
        "    else:\n",
        "        return False\n",
        "\n",
        "#Check if a number is either even or divisible by 7.\n",
        "def isdivisible_by_even_or_7(number):\n",
        "    if number % 2 == 0 or number % 7 == 0:\n",
        "        return True\n",
        "    else:\n",
        "        return False\n",
        "\n",
        "#Use += and *= to modify a variable value\n",
        "x = 5\n",
        "x += 3  # Equivalent to x = x + 3\n",
        "x *= 2  # Equivalent to x = x * 2\n",
        "print(x)\n",
        "\n",
        "\n",
        "#Compare two ages and print who is older\n",
        "age1 =20\n",
        "age2 =25\n",
        "\n",
        "if age1 > age2:\n",
        "  print(\"age1 is greater than age2\")\n",
        "else:\n",
        "  print(\"age2 is greater than age1\")\n",
        "\n",
        "#Use not to reverse a condition result.\n",
        "is_raining = False\n",
        "is_cold = True\n",
        "\n",
        "if is_raining and is_cold:\n",
        "    print(\"Bring an umbrella and a jacket.\")\n",
        "elif is_raining:\n",
        "    print(\"Bring an umbrella.\")\n",
        "elif is_cold:\n",
        "    print(\"Bring a jacket.\")\n",
        "\n",
        "#Take three numbers and find the smallest using comparison operators\n",
        "a =10\n",
        "b = 12\n",
        "c = 18\n",
        "\n",
        "if a>b and a>c:\n",
        "  print(\"a is greater\")\n",
        "elif b>a and b>c:\n",
        "  print(\"b is greater\")\n",
        "else:\n",
        "  print(\"c is greater\")\n",
        "\n",
        "#Swap two variables using assignment only.\n",
        "r = 20\n",
        "m = 30\n",
        "\n",
        "r,m = m,r\n",
        "print(\"after swapping\")\n",
        "print(\"r=\",r)\n",
        "print(\"m=\",m)"
      ],
      "metadata": {
        "colab": {
          "base_uri": "https://localhost:8080/"
        },
        "id": "ZMwoYq82KOJg",
        "outputId": "cf882d9e-8522-4da3-837a-61da0df16b20"
      },
      "execution_count": 80,
      "outputs": [
        {
          "output_type": "stream",
          "name": "stdout",
          "text": [
            "5\n",
            "-1\n",
            "6\n",
            "0.6666666666666666\n",
            "2\n",
            "False\n",
            "they are equal\n",
            "16\n",
            "age2 is greater than age1\n",
            "Bring a jacket.\n",
            "c is greater\n",
            "after swapping\n",
            "r= 30\n",
            "m= 20\n"
          ]
        }
      ]
    },
    {
      "cell_type": "markdown",
      "source": [
        "#Lists"
      ],
      "metadata": {
        "id": "PoNPeaZXgzuU"
      }
    },
    {
      "cell_type": "code",
      "source": [
        "#Create a list of 5 items and print each one using a loop.\n",
        "\n",
        "mylist = [\"apple\", \"banana\", \"cherry\",\"kiwi\",\"orange\"]\n",
        "for x in mylist:\n",
        "  print(x)\n",
        "\n",
        "#Add an item to the end of a list.\n",
        "mylist = [\"apple\", \"banana\", \"cherry\",\"kiwi\",\"orange\"]\n",
        "mylist.append(\"mango\")\n",
        "print(mylist)\n",
        "\n",
        "#Insert a number at the second position of a list.\n",
        "mylist = [\"apple\", \"banana\", \"cherry\",\"kiwi\",\"orange\"]\n",
        "mylist.insert(1, \"mango\")\n",
        "print(mylist)\n",
        "\n",
        "#Remove the last item from a list\n",
        "mylist = [\"apple\", \"banana\", \"cherry\",\"kiwi\",\"orange\"]\n",
        "mylist.pop()\n",
        "print(mylist)\n",
        "\n",
        "#Sort a list of numbers in ascending order\n",
        "numbers = [5, 2, 8, 1, 9]\n",
        "numbers.sort()\n",
        "print(numbers)\n",
        "\n",
        "#Reverse a list.\n",
        "mylist = [\"apple\", \"banana\", \"cherry\",\"kiwi\",\"orange\"]\n",
        "mylist.reverse()\n",
        "print(mylist)\n",
        "\n",
        "#Find the sum of all elements in a list\n",
        "numbers = [5, 2, 8, 1, 9]\n",
        "total = sum(numbers)\n",
        "print(total)\n",
        "\n",
        "#Find the maximum and minimum values in a list.\n",
        "numbers = [5, 2, 8, 1, 9]\n",
        "maximum = max(numbers)\n",
        "minimum = min(numbers)\n",
        "print(maximum)\n",
        "print(minimum)\n",
        "\n",
        "#Check if a user-entered item is in a list.\n",
        "mylist = [\"apple\", \"banana\", \"cherry\",\"kiwi\",\"orange\"]\n",
        "if \"apple\" in mylist:\n",
        "  print(\"yes\")\n",
        "else:\n",
        "  print(\"no\")\n",
        "\n",
        "#Count how many times a certain value appears in a list\n",
        "mylist = [\"apple\", \"banana\", \"cherry\",\"kiwi\",\"orange\"]\n",
        "x = mylist.count(\"apple\")\n",
        "print(x)"
      ],
      "metadata": {
        "colab": {
          "base_uri": "https://localhost:8080/"
        },
        "id": "LlgyY_QphASF",
        "outputId": "eca29e76-4276-424e-da01-bdcf2cfc10a8"
      },
      "execution_count": 38,
      "outputs": [
        {
          "output_type": "stream",
          "name": "stdout",
          "text": [
            "apple\n",
            "banana\n",
            "cherry\n",
            "kiwi\n",
            "orange\n",
            "['apple', 'banana', 'cherry', 'kiwi', 'orange', 'mango']\n",
            "['apple', 'mango', 'banana', 'cherry', 'kiwi', 'orange']\n",
            "['apple', 'banana', 'cherry', 'kiwi']\n",
            "[1, 2, 5, 8, 9]\n",
            "['orange', 'kiwi', 'cherry', 'banana', 'apple']\n",
            "25\n",
            "9\n",
            "1\n",
            "yes\n",
            "1\n"
          ]
        }
      ]
    },
    {
      "cell_type": "markdown",
      "source": [
        "#Tuples"
      ],
      "metadata": {
        "id": "uf7i_yp8kL-U"
      }
    },
    {
      "cell_type": "code",
      "source": [
        "#Create a tuple of 4 colors and print the second one.\n",
        "mytuple = (\"red\", \"yellow\", \"green\", \"black\")\n",
        "print(mytuple[1])\n",
        "\n",
        "#Try to change a value in a tuple (observe what happens).\n",
        "mytuple = (\"red\", \"yellow\", \"green\", \"black\")\n",
        "mytuple[1] = \"pink\"\n",
        "print(mytuple)\n"
      ],
      "metadata": {
        "colab": {
          "base_uri": "https://localhost:8080/",
          "height": 216
        },
        "id": "Ko5LnXi7kRiP",
        "outputId": "060eafc6-81c8-44eb-c936-7b273937cb25"
      },
      "execution_count": 69,
      "outputs": [
        {
          "output_type": "stream",
          "name": "stdout",
          "text": [
            "yellow\n"
          ]
        },
        {
          "output_type": "error",
          "ename": "TypeError",
          "evalue": "'tuple' object does not support item assignment",
          "traceback": [
            "\u001b[0;31m---------------------------------------------------------------------------\u001b[0m",
            "\u001b[0;31mTypeError\u001b[0m                                 Traceback (most recent call last)",
            "\u001b[0;32m<ipython-input-69-f5f77e9a7d2d>\u001b[0m in \u001b[0;36m<cell line: 0>\u001b[0;34m()\u001b[0m\n\u001b[1;32m      5\u001b[0m \u001b[0;31m#Try to change a value in a tuple (observe what happens).\u001b[0m\u001b[0;34m\u001b[0m\u001b[0;34m\u001b[0m\u001b[0m\n\u001b[1;32m      6\u001b[0m \u001b[0mmytuple\u001b[0m \u001b[0;34m=\u001b[0m \u001b[0;34m(\u001b[0m\u001b[0;34m\"red\"\u001b[0m\u001b[0;34m,\u001b[0m \u001b[0;34m\"yellow\"\u001b[0m\u001b[0;34m,\u001b[0m \u001b[0;34m\"green\"\u001b[0m\u001b[0;34m,\u001b[0m \u001b[0;34m\"black\"\u001b[0m\u001b[0;34m)\u001b[0m\u001b[0;34m\u001b[0m\u001b[0;34m\u001b[0m\u001b[0m\n\u001b[0;32m----> 7\u001b[0;31m \u001b[0mmytuple\u001b[0m\u001b[0;34m[\u001b[0m\u001b[0;36m1\u001b[0m\u001b[0;34m]\u001b[0m \u001b[0;34m=\u001b[0m \u001b[0;34m\"pink\"\u001b[0m\u001b[0;34m\u001b[0m\u001b[0;34m\u001b[0m\u001b[0m\n\u001b[0m\u001b[1;32m      8\u001b[0m \u001b[0mprint\u001b[0m\u001b[0;34m(\u001b[0m\u001b[0mmytuple\u001b[0m\u001b[0;34m)\u001b[0m\u001b[0;34m\u001b[0m\u001b[0;34m\u001b[0m\u001b[0m\n",
            "\u001b[0;31mTypeError\u001b[0m: 'tuple' object does not support item assignment"
          ]
        }
      ]
    },
    {
      "cell_type": "code",
      "source": [
        "#Convert a list to a tuple.\n",
        "mylist = [\"red\", \"yellow\", \"green\", \"black\"]\n",
        "mytuple = tuple(mylist)\n",
        "print(mytuple)\n",
        "\n",
        "#Check if a value exists in a tuple.\n",
        "mytuple = (\"red\", \"yellow\", \"green\", \"black\")\n",
        "if \"red\" in mytuple:\n",
        "  print(\"yes\")\n",
        "else:\n",
        "  print(\"no\")\n",
        "\n",
        "#Find the length of a tuple.\n",
        "mytuple = (\"red\", \"yellow\", \"green\", \"black\")\n",
        "print(len(mytuple))\n",
        "\n",
        "#Slice a tuple to get the last two elements.\n",
        "mytuple = (\"red\", \"yellow\", \"green\", \"black\")\n",
        "print(mytuple[-2:])\n",
        "\n",
        "#Concatenate two tuples\n",
        "tuple1 = (\"red\", \"yellow\", \"green\", \"black\")\n",
        "tuple2 = (1, 2, 3, 4)\n",
        "tuple3 = tuple1 + tuple2\n",
        "print(tuple3)\n",
        "\n",
        "#Use a tuple to store coordinates (x, y)\n",
        "coordinates = (1, 4)\n",
        "print(coordinates)\n",
        "\n",
        "#Create a tuple with numbers and find the max value.\n",
        "mytuple = (1, 2, 3, 4)\n",
        "print(max(mytuple))\n",
        "\n",
        "#Convert a tuple to a list and back again.\n",
        "mytuple = (\"red\", \"yellow\", \"green\", \"black\")\n",
        "mylist = list(mytuple)\n",
        "print(mylist)\n",
        "mytuple = tuple(mylist)\n",
        "print(mytuple)\n"
      ],
      "metadata": {
        "colab": {
          "base_uri": "https://localhost:8080/"
        },
        "id": "Z8ExwbbhkZtI",
        "outputId": "1d62d907-d766-40c0-dbbb-7b7974d01a5f"
      },
      "execution_count": 68,
      "outputs": [
        {
          "output_type": "stream",
          "name": "stdout",
          "text": [
            "('red', 'yellow', 'green', 'black')\n",
            "yes\n",
            "4\n",
            "('green', 'black')\n",
            "('red', 'yellow', 'green', 'black', 1, 2, 3, 4)\n",
            "(1, 4)\n",
            "4\n",
            "['red', 'yellow', 'green', 'black']\n",
            "('red', 'yellow', 'green', 'black')\n"
          ]
        }
      ]
    },
    {
      "cell_type": "markdown",
      "source": [
        "#Dictionaries"
      ],
      "metadata": {
        "id": "-mR5d2Gzm-o5"
      }
    },
    {
      "cell_type": "code",
      "source": [
        "#Create a dictionary of 3 students with their marks.\n",
        "students = {\"richa\": 85,\"rishi\": 92,\"mimi\": 78}\n",
        "print(students)\n",
        "\n",
        "#Add a new key-value pair to a dictionary\n",
        "students = {\"richa\": 85,\"rishi\": 92,\"mimi\": 78}\n",
        "students[\"sonu\"] = 95\n",
        "print(students)\n",
        "\n",
        "#Update the value of an existing key\n",
        "students = {\"richa\": 85,\"rishi\": 92,\"mimi\": 78}\n",
        "students[\"richa\"] = 90\n",
        "print(students)\n",
        "\n",
        "#Delete a key from the dictionary.\n",
        "students = {\"richa\": 85,\"rishi\": 92,\"mimi\": 78}\n",
        "del students[\"richa\"]\n",
        "print(students)\n",
        "\n",
        "#Print all keys of a dictionary\n",
        "students = {\"richa\": 85,\"rishi\": 92,\"mimi\": 78}\n",
        "print(students.keys())\n",
        "\n",
        "#Print all values of a dictionary.\n",
        "students = {\"richa\": 85,\"rishi\": 92,\"mimi\": 78}\n",
        "print(students.values())\n",
        "\n",
        "#Check if a specific key exists in the dictionary\n",
        "students = {\"richa\": 85,\"rishi\": 92,\"mimi\": 78}\n",
        "if \"richa\" in students:\n",
        "  print(\"yes\")\n",
        "else:\n",
        "  print(\"no\")\n",
        "\n",
        "#Get the value of a key using get()\n",
        "person = {\"name\": \"richa\", \"age\": 25}\n",
        "print(person.get(\"name\"))\n",
        "\n",
        "#Loop through the dictionary and print each key and value.\n",
        "students = {\"richa\": 85,\"rishi\": 92,\"mimi\": 78}\n",
        "for key, value in students.items():\n",
        "  print(key, value)\n",
        "\n",
        "#Create a dictionary where keys are numbers and values are their squares.\n",
        "squares = {x: x**2 for x in range(1,4)}\n",
        "print(squares)"
      ],
      "metadata": {
        "colab": {
          "base_uri": "https://localhost:8080/"
        },
        "id": "ENyyCVsCnEBx",
        "outputId": "be69c8da-a69b-4127-b1b5-ccd7a61f859d"
      },
      "execution_count": 67,
      "outputs": [
        {
          "output_type": "stream",
          "name": "stdout",
          "text": [
            "{'richa': 85, 'rishi': 92, 'mimi': 78}\n",
            "{'richa': 85, 'rishi': 92, 'mimi': 78, 'sonu': 95}\n",
            "{'richa': 90, 'rishi': 92, 'mimi': 78}\n",
            "{'rishi': 92, 'mimi': 78}\n",
            "dict_keys(['richa', 'rishi', 'mimi'])\n",
            "dict_values([85, 92, 78])\n",
            "yes\n",
            "richa\n",
            "richa 85\n",
            "rishi 92\n",
            "mimi 78\n",
            "{1: 1, 2: 4, 3: 9}\n"
          ]
        }
      ]
    },
    {
      "cell_type": "code",
      "source": [],
      "metadata": {
        "id": "MTKAT8ahnOVD"
      },
      "execution_count": null,
      "outputs": []
    }
  ]
}